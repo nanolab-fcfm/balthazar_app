{
 "cells": [
  {
   "cell_type": "code",
   "execution_count": 4,
   "metadata": {},
   "outputs": [],
   "source": [
    "import glob\n",
    "import pandas as pd"
   ]
  },
  {
   "cell_type": "code",
   "execution_count": 32,
   "metadata": {},
   "outputs": [],
   "source": [
    "# Read all csv files in the data folder and subfolders\n",
    "data_files = glob.glob('data/**/IVg*.csv', recursive=True)\n",
    "data = [pd.read_csv(f, comment='#') for f in data_files]"
   ]
  },
  {
   "cell_type": "code",
   "execution_count": 38,
   "metadata": {},
   "outputs": [],
   "source": [
    "def get_params(file: str):\n",
    "    \"\"\"Get the parameters from the file header. Return a dictionary with the\n",
    "    parameters.\n",
    "    \"\"\"\n",
    "    dic = dict()\n",
    "    with open(file) as f:\n",
    "        for line in f:\n",
    "            if not line.startswith('#'):\n",
    "                break\n",
    "\n",
    "            key, value = line.strip('#').strip().split(':')\n",
    "            if not key in ['Parameters', 'Data']:\n",
    "                dic[key] = value.strip()\n",
    "            if key == 'Procedure':\n",
    "                # remove procedure from '<__main__.procedure>'\n",
    "                procedure = value.strip().split('.')[-1][:-1]\n",
    "                dic[key] = procedure\n",
    "                dic['Date'] = file.split(procedure)[-1][:10]\n",
    "    return dic"
   ]
  },
  {
   "cell_type": "code",
   "execution_count": 39,
   "metadata": {},
   "outputs": [],
   "source": [
    "params = [get_params(f) for f in data_files]"
   ]
  },
  {
   "cell_type": "code",
   "execution_count": 40,
   "metadata": {},
   "outputs": [
    {
     "data": {
      "text/plain": [
       "{'Procedure': 'IVg',\n",
       " 'Date': '2023-05-12',\n",
       " 'Irange': '0.001 A',\n",
       " 'N_avg': '2',\n",
       " 'Chip': 'Unknown',\n",
       " 'Comment': '-',\n",
       " 'Sample': 'Unknown',\n",
       " 'Step time': '0.01 s',\n",
       " 'VDS': '0.075 V',\n",
       " 'VG end': '35 V',\n",
       " 'VG start': '-35 V',\n",
       " 'VG step': '0.2 V'}"
      ]
     },
     "execution_count": 40,
     "metadata": {},
     "output_type": "execute_result"
    }
   ],
   "source": [
    "params[-3]"
   ]
  },
  {
   "cell_type": "code",
   "execution_count": 35,
   "metadata": {},
   "outputs": [
    {
     "data": {
      "text/html": [
       "<div>\n",
       "<style scoped>\n",
       "    .dataframe tbody tr th:only-of-type {\n",
       "        vertical-align: middle;\n",
       "    }\n",
       "\n",
       "    .dataframe tbody tr th {\n",
       "        vertical-align: top;\n",
       "    }\n",
       "\n",
       "    .dataframe thead th {\n",
       "        text-align: right;\n",
       "    }\n",
       "</style>\n",
       "<table border=\"1\" class=\"dataframe\">\n",
       "  <thead>\n",
       "    <tr style=\"text-align: right;\">\n",
       "      <th></th>\n",
       "      <th>Vg (V)</th>\n",
       "      <th>I (A)</th>\n",
       "      <th>hola</th>\n",
       "    </tr>\n",
       "  </thead>\n",
       "  <tbody>\n",
       "  </tbody>\n",
       "</table>\n",
       "</div>"
      ],
      "text/plain": [
       "Empty DataFrame\n",
       "Columns: [Vg (V), I (A), hola]\n",
       "Index: []"
      ]
     },
     "execution_count": 35,
     "metadata": {},
     "output_type": "execute_result"
    }
   ],
   "source": [
    "data[-3]"
   ]
  }
 ],
 "metadata": {
  "kernelspec": {
   "display_name": "nanolab",
   "language": "python",
   "name": "python3"
  },
  "language_info": {
   "codemirror_mode": {
    "name": "ipython",
    "version": 3
   },
   "file_extension": ".py",
   "mimetype": "text/x-python",
   "name": "python",
   "nbconvert_exporter": "python",
   "pygments_lexer": "ipython3",
   "version": "3.10.9"
  },
  "orig_nbformat": 4
 },
 "nbformat": 4,
 "nbformat_minor": 2
}
