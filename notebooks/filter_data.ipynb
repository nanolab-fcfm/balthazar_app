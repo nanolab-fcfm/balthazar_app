{
 "cells": [
  {
   "cell_type": "code",
   "execution_count": 17,
   "metadata": {},
   "outputs": [],
   "source": [
    "from pathlib import Path\n",
    "import glob\n",
    "\n",
    "import pandas as pd\n",
    "from pymeasure.experiment import Results, Parameter\n",
    "\n",
    "from lib.utils import config\n",
    "from Scripts.IVg import IVg"
   ]
  },
  {
   "cell_type": "code",
   "execution_count": 11,
   "metadata": {},
   "outputs": [],
   "source": [
    "# Read all csv files in the data folder and subfolders\n",
    "DataDir = Path(config['Filename']['directory'])\n",
    "data_files = glob.glob(str(DataDir/'**'/'IVg*.csv'), recursive=True)\n",
    "results = [Results.load(path, procedure_class=IVg) for path in data_files]\n",
    "if not results: raise ValueError('No data files found in ' + DataDir)"
   ]
  },
  {
   "cell_type": "code",
   "execution_count": 18,
   "metadata": {},
   "outputs": [],
   "source": [
    "def filter_by_param(results: list[Results], param: Parameter, value):\n",
    "    \"\"\"Filter results by a parameter and value.\n",
    "    \"\"\"\n",
    "    return [r for r in results if r.parameters[param].value == value]"
   ]
  },
  {
   "cell_type": "code",
   "execution_count": 19,
   "metadata": {},
   "outputs": [
    {
     "data": {
      "text/plain": [
       "[<Results(filename='data\\2023-06-08\\IVg2023-06-08_1.csv',procedure=IVg,shape=(0, 2))>,\n",
       " <Results(filename='data\\2023-06-08\\IVg2023-06-08_2.csv',procedure=IVg,shape=(0, 2))>,\n",
       " <Results(filename='data\\2023-06-08\\IVg2023-06-08_3.csv',procedure=IVg,shape=(0, 2))>,\n",
       " <Results(filename='data\\2023-06-08\\IVg2023-06-08_4.csv',procedure=IVg,shape=(0, 2))>,\n",
       " <Results(filename='data\\2023-06-08\\IVg2023-06-08_5.csv',procedure=IVg,shape=(0, 2))>]"
      ]
     },
     "execution_count": 19,
     "metadata": {},
     "output_type": "execute_result"
    }
   ],
   "source": [
    "filter_by_param(results, 'vds', 0.075)"
   ]
  }
 ],
 "metadata": {
  "kernelspec": {
   "display_name": "nanolab",
   "language": "python",
   "name": "python3"
  },
  "language_info": {
   "codemirror_mode": {
    "name": "ipython",
    "version": 3
   },
   "file_extension": ".py",
   "mimetype": "text/x-python",
   "name": "python",
   "nbconvert_exporter": "python",
   "pygments_lexer": "ipython3",
   "version": "3.10.9"
  },
  "orig_nbformat": 4
 },
 "nbformat": 4,
 "nbformat_minor": 2
}
